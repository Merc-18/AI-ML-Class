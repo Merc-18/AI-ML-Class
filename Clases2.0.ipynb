{
  "nbformat": 4,
  "nbformat_minor": 0,
  "metadata": {
    "colab": {
      "name": "Cap2 String Python Course.ipynb",
      "provenance": [],
      "include_colab_link": true
    },
    "kernelspec": {
      "name": "python3",
      "display_name": "Python 3"
    },
    "language_info": {
      "name": "python"
    }
  },
  "cells": [
    {
      "cell_type": "markdown",
      "metadata": {
        "id": "view-in-github",
        "colab_type": "text"
      },
      "source": [
        "<a href=\"https://colab.research.google.com/github/Merc-18/AI-ML-Class/blob/main/Clases2.0.ipynb\" target=\"_parent\"><img src=\"https://colab.research.google.com/assets/colab-badge.svg\" alt=\"Open In Colab\"/></a>"
      ]
    },
    {
      "cell_type": "markdown",
      "source": [
        "#Curso de AI&ML\n",
        "##Dirigido por: Director del Area de Investigacion de la IEEE-RAS\n",
        "###Milton Eduardo Rios Castillo\n"
      ],
      "metadata": {
        "id": "nzevZxkT5Ie4"
      }
    },
    {
      "cell_type": "markdown",
      "source": [
        "##Numeros: int , float y complejo"
      ],
      "metadata": {
        "id": "1gDRRRc1m3KI"
      }
    },
    {
      "cell_type": "code",
      "source": [
        "a = 5\n",
        "print(type(a))"
      ],
      "metadata": {
        "colab": {
          "base_uri": "https://localhost:8080/"
        },
        "id": "kKG-XT5_m6un",
        "outputId": "6171f613-e95f-4e7f-f88a-aaa1bd074efa"
      },
      "execution_count": null,
      "outputs": [
        {
          "output_type": "stream",
          "name": "stdout",
          "text": [
            "<class 'int'>\n"
          ]
        }
      ]
    },
    {
      "cell_type": "code",
      "source": [
        "a = 5.0\n",
        "print(type(a))"
      ],
      "metadata": {
        "colab": {
          "base_uri": "https://localhost:8080/"
        },
        "id": "nDMflCKnohfw",
        "outputId": "b6572e90-d220-4e49-e26d-d8a10e13b3f0"
      },
      "execution_count": null,
      "outputs": [
        {
          "output_type": "stream",
          "name": "stdout",
          "text": [
            "<class 'float'>\n"
          ]
        }
      ]
    },
    {
      "cell_type": "code",
      "source": [
        "a = 5 + 6j\n",
        "print(type(a))"
      ],
      "metadata": {
        "colab": {
          "base_uri": "https://localhost:8080/"
        },
        "id": "-5fOBy7Rok7C",
        "outputId": "4f0349b9-3d1a-4df5-ee64-2a7b398709ba"
      },
      "execution_count": null,
      "outputs": [
        {
          "output_type": "stream",
          "name": "stdout",
          "text": [
            "<class 'complex'>\n"
          ]
        }
      ]
    },
    {
      "cell_type": "markdown",
      "source": [
        "##Texto"
      ],
      "metadata": {
        "id": "XFULsOblovFl"
      }
    },
    {
      "cell_type": "code",
      "source": [
        "s1 = \"Me gusta Python\"\n",
        "s2 = 'Me gusta Python'\n",
        "s3 = \"\"\" Me gusta\n",
        " python\n",
        " \"\"\"\n",
        "print(s1)\n",
        "print(s2)\n",
        "print(s3)\n",
        "print(type(s1))\n",
        "print(type(s2))\n",
        "print(type(s3))"
      ],
      "metadata": {
        "id": "z0hdfhT0oxZ4"
      },
      "execution_count": null,
      "outputs": []
    },
    {
      "cell_type": "code",
      "execution_count": null,
      "metadata": {
        "id": "KDWXIy5GgqxY"
      },
      "outputs": [],
      "source": [
        "#alt+34\n",
        "mensaje = \"Bienvenidos al curso de Python\" "
      ]
    },
    {
      "cell_type": "code",
      "source": [
        "#alt+39\n",
        "mensaje = 'Bienvenidos al curso de Python'"
      ],
      "metadata": {
        "id": "5CGsSJ0Bhc1T"
      },
      "execution_count": null,
      "outputs": []
    },
    {
      "cell_type": "markdown",
      "source": [
        "##Secuencias de texto"
      ],
      "metadata": {
        "id": "-p-QGJtwphJs"
      }
    },
    {
      "cell_type": "code",
      "source": [
        "s = \"python\\\"\"\n",
        "print (s)"
      ],
      "metadata": {
        "colab": {
          "base_uri": "https://localhost:8080/"
        },
        "id": "aB-yPXoMpkxk",
        "outputId": "319e144d-cb4e-433c-94a0-73ca335579be"
      },
      "execution_count": null,
      "outputs": [
        {
          "output_type": "stream",
          "name": "stdout",
          "text": [
            "python\"\n"
          ]
        }
      ]
    },
    {
      "cell_type": "code",
      "source": [
        "s = \"python\\\\\"\n",
        "print (s)"
      ],
      "metadata": {
        "colab": {
          "base_uri": "https://localhost:8080/"
        },
        "id": "i3wYp2hpqwSk",
        "outputId": "9a5670ac-06d4-4b5b-e94e-d5eb77eb897c"
      },
      "execution_count": null,
      "outputs": [
        {
          "output_type": "stream",
          "name": "stdout",
          "text": [
            "python\\\n"
          ]
        }
      ]
    },
    {
      "cell_type": "code",
      "source": [
        "#\\n\n",
        "s = \"py\\nthon\"\n",
        "print (s)"
      ],
      "metadata": {
        "colab": {
          "base_uri": "https://localhost:8080/"
        },
        "id": "tnL_M2igq3Om",
        "outputId": "d4c9a9ee-2e61-491c-8f7a-7b355aad603d"
      },
      "execution_count": null,
      "outputs": [
        {
          "output_type": "stream",
          "name": "stdout",
          "text": [
            "py\n",
            "thon\n"
          ]
        }
      ]
    },
    {
      "cell_type": "code",
      "source": [
        "s = r\"C:\\abc\\abc\\abc.txt\"\n",
        "print (s)"
      ],
      "metadata": {
        "colab": {
          "base_uri": "https://localhost:8080/"
        },
        "id": "NbT6fMsXreo4",
        "outputId": "8c74bc0e-d9e2-442f-b2a9-df9ffed49c86"
      },
      "execution_count": null,
      "outputs": [
        {
          "output_type": "stream",
          "name": "stdout",
          "text": [
            "C:\\abc\\abc\\abc.txt\n"
          ]
        }
      ]
    },
    {
      "cell_type": "markdown",
      "source": [
        "##Acceso a Caracteres en String"
      ],
      "metadata": {
        "id": "HTj8HcjvrwBi"
      }
    },
    {
      "cell_type": "code",
      "source": [
        "s = \"python\"\n",
        "s[0]"
      ],
      "metadata": {
        "id": "GjbulOQPrzfZ"
      },
      "execution_count": null,
      "outputs": []
    },
    {
      "cell_type": "code",
      "source": [
        "s = \"python\"\n",
        "s[1]"
      ],
      "metadata": {
        "id": "ovgRH7pUr62a"
      },
      "execution_count": null,
      "outputs": []
    },
    {
      "cell_type": "code",
      "source": [
        "s = \"python\"\n",
        "s[-1]"
      ],
      "metadata": {
        "id": "iqvB6FUJr8xd"
      },
      "execution_count": null,
      "outputs": []
    },
    {
      "cell_type": "code",
      "source": [
        "s = \"python\"\n",
        "s[99]"
      ],
      "metadata": {
        "id": "nUy7r28QsCqS"
      },
      "execution_count": null,
      "outputs": []
    },
    {
      "cell_type": "code",
      "source": [
        "s = \"python\"\n",
        "s[0:3]"
      ],
      "metadata": {
        "id": "N0DjksLTsKFT"
      },
      "execution_count": null,
      "outputs": []
    },
    {
      "cell_type": "code",
      "source": [
        "s = \"python\"\n",
        "s[0:4:2]"
      ],
      "metadata": {
        "colab": {
          "base_uri": "https://localhost:8080/",
          "height": 35
        },
        "id": "XPxLepS0sOSp",
        "outputId": "32b1e601-4765-48bb-9383-e61acdd802c4"
      },
      "execution_count": null,
      "outputs": [
        {
          "output_type": "execute_result",
          "data": {
            "application/vnd.google.colaboratory.intrinsic+json": {
              "type": "string"
            },
            "text/plain": [
              "'pt'"
            ]
          },
          "metadata": {},
          "execution_count": 17
        }
      ]
    },
    {
      "cell_type": "markdown",
      "source": [
        "##Operaciones con String"
      ],
      "metadata": {
        "id": "fSzzsIPJs0pH"
      }
    },
    {
      "cell_type": "code",
      "source": [
        "# +\n",
        "a = \"Hello\"\n",
        "b = \"World\"\n",
        "print(a+b)"
      ],
      "metadata": {
        "id": "DrDbferFs7Vb"
      },
      "execution_count": null,
      "outputs": []
    },
    {
      "cell_type": "code",
      "source": [
        "# *\n",
        "a = \"Hello\"\n",
        "b = 2\n",
        "print(a*b)"
      ],
      "metadata": {
        "id": "ej9CkNwWtMCA"
      },
      "execution_count": null,
      "outputs": []
    },
    {
      "cell_type": "markdown",
      "source": [
        "##Metodos comunes para String"
      ],
      "metadata": {
        "id": "6kkVIl2ntVgR"
      }
    },
    {
      "cell_type": "code",
      "source": [
        "#Dividir el texto\n",
        "s = \"Python is cool\"\n",
        "s.split(' ')"
      ],
      "metadata": {
        "id": "HkGv4JIVtrdo"
      },
      "execution_count": null,
      "outputs": []
    },
    {
      "cell_type": "code",
      "source": [
        "#Reemplazar\n",
        "s = 'python'\n",
        "s.replace ('py','ABC')\n"
      ],
      "metadata": {
        "id": "bC7yJW3at4Ux"
      },
      "execution_count": null,
      "outputs": []
    },
    {
      "cell_type": "code",
      "source": [
        "s = 'Python'\n",
        "print(s.lower())\n",
        "print(s.upper())"
      ],
      "metadata": {
        "id": "xmCP50oKuUVh"
      },
      "execution_count": null,
      "outputs": []
    },
    {
      "cell_type": "code",
      "source": [
        "\"--\".join(['python','is','cool'])"
      ],
      "metadata": {
        "colab": {
          "base_uri": "https://localhost:8080/",
          "height": 35
        },
        "id": "0IF6Uo06upbl",
        "outputId": "b6a399a7-d933-48d7-947b-7b432aefa55d"
      },
      "execution_count": null,
      "outputs": [
        {
          "output_type": "execute_result",
          "data": {
            "application/vnd.google.colaboratory.intrinsic+json": {
              "type": "string"
            },
            "text/plain": [
              "'python--is--cool'"
            ]
          },
          "metadata": {},
          "execution_count": 23
        }
      ]
    },
    {
      "cell_type": "code",
      "source": [
        "\"My name is %s , age is %d\" %('Milton',63)"
      ],
      "metadata": {
        "colab": {
          "base_uri": "https://localhost:8080/",
          "height": 35
        },
        "id": "Vh1e2V8ou9Yl",
        "outputId": "601d0eef-11ee-4ccc-cafa-d4f92f8aa961"
      },
      "execution_count": null,
      "outputs": [
        {
          "output_type": "execute_result",
          "data": {
            "application/vnd.google.colaboratory.intrinsic+json": {
              "type": "string"
            },
            "text/plain": [
              "'My name is Milton , age is 63'"
            ]
          },
          "metadata": {},
          "execution_count": 24
        }
      ]
    },
    {
      "cell_type": "markdown",
      "source": [
        "##Concatenacion"
      ],
      "metadata": {
        "id": "pntux6WPvOXC"
      }
    },
    {
      "cell_type": "code",
      "source": [
        "palabra_1 = 'IEEE'\n",
        "palabra_2 = 'RAS'\n",
        "nombre_completo = palabra_1 + palabra_2\n",
        "print(nombre_completo)"
      ],
      "metadata": {
        "id": "WvuoiIqbkxrL"
      },
      "execution_count": null,
      "outputs": []
    },
    {
      "cell_type": "code",
      "source": [
        "palabra_1 = 'IEEE '#hay un espacio\n",
        "palabra_2 = 'RAS'\n",
        "nombre_completo = palabra_1 + palabra_2\n",
        "print(nombre_completo)"
      ],
      "metadata": {
        "id": "SVIz6pFmlSKE"
      },
      "execution_count": null,
      "outputs": []
    },
    {
      "cell_type": "code",
      "source": [
        "palabra_1 = 'IEEE'\n",
        "palabra_2 = 'RAS'\n",
        "nombre_completo = palabra_1 + ' ' +  palabra_2\n",
        "print(nombre_completo)"
      ],
      "metadata": {
        "id": "uK8t45Jild7n"
      },
      "execution_count": null,
      "outputs": []
    },
    {
      "cell_type": "markdown",
      "source": [
        "Diferencias al concatenar numeros"
      ],
      "metadata": {
        "id": "a3uI7ztAmgTM"
      }
    },
    {
      "cell_type": "code",
      "source": [
        "num1 = 10\n",
        "num2 = 15\n",
        "suma = num1 + num2\n",
        "print(suma)"
      ],
      "metadata": {
        "id": "p5K8Y7jpmqmg"
      },
      "execution_count": null,
      "outputs": []
    },
    {
      "cell_type": "code",
      "source": [
        "num1 = '10'\n",
        "num2 = '15'\n",
        "suma = num1 + num2\n",
        "print(suma)"
      ],
      "metadata": {
        "id": "gFWS46POmsa8"
      },
      "execution_count": null,
      "outputs": []
    },
    {
      "cell_type": "markdown",
      "source": [
        "Ejercicios\n",
        "\n",
        "1.   Concatena dos strings en una variable. Puedes comprobar el resultado con un print().\n",
        "2.   Concatena dos variables con strings en una tercera variable.\n",
        "3.Concatena una variable con string y un string directamente en un print().\n",
        "4.Escribe tu nombre y apellidos separados en variables. Después concatena estas variables dentro de otra. No te olvides de concatenar los espacios entre el nombre y cada apellido. Finalmente, imprime el resultado.\n",
        "5.Concatena dos números, no los sumes.\n",
        "\n"
      ],
      "metadata": {
        "id": "-wLVa0einF8v"
      }
    },
    {
      "cell_type": "code",
      "source": [
        "#1\n",
        "concatena = \"Esta es una \" + \"sola frase.\"\n",
        "\n",
        "print(concatena)"
      ],
      "metadata": {
        "id": "2lIlcJ6snwL0"
      },
      "execution_count": null,
      "outputs": []
    },
    {
      "cell_type": "code",
      "source": [
        "#2\n",
        "palabra1 = \"Programación \"\n",
        "palabra2 = \"Fácil\"\n",
        "nombre = palabra1 + palabra2"
      ],
      "metadata": {
        "id": "7U3q5Xn7n3tk"
      },
      "execution_count": null,
      "outputs": []
    },
    {
      "cell_type": "code",
      "source": [
        "#3\n",
        "palabra1 = \"Programación \"\n",
        "print(palabra1 + \"Fácil\")"
      ],
      "metadata": {
        "id": "Gorm8Fjwn_Ps"
      },
      "execution_count": null,
      "outputs": []
    },
    {
      "cell_type": "code",
      "source": [
        "nombre = \"Enrique\"\n",
        "apellido1 = \"Barros\"\n",
        "apellido2 = \"Fernández\"\n",
        "\n",
        "nombre_completo = nombre + \" \" + apellido1 + \" \" + apellido2\n",
        "\n",
        "print(nombre_completo)"
      ],
      "metadata": {
        "id": "LfeLvvUIoGe7"
      },
      "execution_count": null,
      "outputs": []
    },
    {
      "cell_type": "code",
      "source": [
        "# Solución 1\n",
        "numero1 = \"40\"\n",
        "numero2 = \"60\"\n",
        "\n",
        "numero3 = numero1 + numero2\n",
        "\n",
        "# Solución 2\n",
        "numero = \"40\" + \"60\"\n",
        "\n",
        "# Solución 3\n",
        "print(\"40\" + \"60\")"
      ],
      "metadata": {
        "id": "c5rn1XdooLWu"
      },
      "execution_count": null,
      "outputs": []
    }
  ]
}