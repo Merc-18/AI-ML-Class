{
  "nbformat": 4,
  "nbformat_minor": 0,
  "metadata": {
    "colab": {
      "name": "Cap1 Variables Python Course.ipynb",
      "provenance": []
    },
    "kernelspec": {
      "name": "python3",
      "display_name": "Python 3"
    },
    "language_info": {
      "name": "python"
    }
  },
  "cells": [
    {
      "cell_type": "markdown",
      "source": [
        "#Curso de AI&ML\n",
        "##Dirigido por: Director del Area de Investigacion de la IEEE-RAS\n",
        "###Milton Eduardo Rios Castillo\n"
      ],
      "metadata": {
        "id": "nzevZxkT5Ie4"
      }
    },
    {
      "cell_type": "markdown",
      "source": [
        "##Hello World"
      ],
      "metadata": {
        "id": "2g7iArNixHKc"
      }
    },
    {
      "cell_type": "code",
      "source": [
        "#Alt 39 y alt 34\n",
        "print('hello world')\n",
        "print(\"hello world\")\n",
        "# se puede usar comillas triples para varias lineas\n",
        "print(\"\"\"hello\n",
        "world\"\"\")"
      ],
      "metadata": {
        "id": "d90B69_Iw6YG"
      },
      "execution_count": null,
      "outputs": []
    },
    {
      "cell_type": "markdown",
      "source": [
        "##Comentarios"
      ],
      "metadata": {
        "id": "oqnIM_Ctxi4t"
      }
    },
    {
      "cell_type": "code",
      "source": [
        "print(\"hello world\") #esto es un comentario\n",
        "\n"
      ],
      "metadata": {
        "id": "g2XlRU4wxk7l"
      },
      "execution_count": null,
      "outputs": []
    },
    {
      "cell_type": "code",
      "source": [
        "\"\"\"\n",
        "Entre lineas triples se puede comentar\n",
        "\"\"\"\n",
        "print(\"hello world\")"
      ],
      "metadata": {
        "id": "Ly_iw8aGyAPg"
      },
      "execution_count": null,
      "outputs": []
    },
    {
      "cell_type": "markdown",
      "source": [
        "##Variables\n",
        "\n"
      ],
      "metadata": {
        "id": "PBMHehmMZygD"
      }
    },
    {
      "cell_type": "code",
      "execution_count": null,
      "metadata": {
        "id": "iMY_-IubYaP_"
      },
      "outputs": [],
      "source": [
        "mensaje = \"Bienvenidos al curso de Python\"\n",
        "print(mensaje)"
      ]
    },
    {
      "cell_type": "markdown",
      "source": [
        "Cómo funcionan las variables"
      ],
      "metadata": {
        "id": "YMIBg-krbaTH"
      }
    },
    {
      "cell_type": "code",
      "source": [
        "mensaje = \"Bienvenidos al curso de Python\"\n",
        "mensaje = 10\n",
        "print(mensaje)"
      ],
      "metadata": {
        "id": "rjwGFSRubaBW"
      },
      "execution_count": null,
      "outputs": []
    },
    {
      "cell_type": "markdown",
      "source": [
        "##Nombramiento de variables\n"
      ],
      "metadata": {
        "id": "AgU6QvKfzhk6"
      }
    },
    {
      "cell_type": "markdown",
      "source": [
        "Variable names should have a combination of letters in lowercase (a to z) or uppercase (A to Z) or digits (0 to 9) or an\n",
        "underscore (_)."
      ],
      "metadata": {
        "id": "NKAsjZ1mzzyM"
      }
    },
    {
      "cell_type": "code",
      "source": [
        "aF9_ = 1"
      ],
      "metadata": {
        "id": "CKctWww6znTh"
      },
      "execution_count": null,
      "outputs": []
    },
    {
      "cell_type": "markdown",
      "source": [
        "Si quieres crear diferentes elementos de un mismo tema usa _"
      ],
      "metadata": {
        "id": "yO9CX9Nb0xWd"
      }
    },
    {
      "cell_type": "code",
      "source": [
        "carro_rojo = 54000\n",
        "carro_azul = 38437"
      ],
      "metadata": {
        "id": "BgDdilYU03DE"
      },
      "execution_count": null,
      "outputs": []
    },
    {
      "cell_type": "markdown",
      "source": [
        "no puedes comensar una variable con un numero"
      ],
      "metadata": {
        "id": "3lx-g_1U0-5E"
      }
    },
    {
      "cell_type": "code",
      "source": [
        "1a = 4"
      ],
      "metadata": {
        "id": "UTydxFUo1CNr"
      },
      "execution_count": null,
      "outputs": []
    },
    {
      "cell_type": "markdown",
      "source": [
        "##Keywords de Python"
      ],
      "metadata": {
        "id": "VX0rHNHS2Dms"
      }
    },
    {
      "cell_type": "code",
      "source": [
        "def = 4"
      ],
      "metadata": {
        "id": "oLKpDek12Glr"
      },
      "execution_count": null,
      "outputs": []
    },
    {
      "cell_type": "code",
      "source": [
        "import keyword\n",
        "keyword.kwlist"
      ],
      "metadata": {
        "id": "vpngaVM62Sfk"
      },
      "execution_count": null,
      "outputs": []
    },
    {
      "cell_type": "code",
      "source": [
        "help(\"keywords\")\n"
      ],
      "metadata": {
        "id": "nZ5-t8VU2ZG4"
      },
      "execution_count": null,
      "outputs": []
    },
    {
      "cell_type": "markdown",
      "source": [
        "##Intercambio de variables"
      ],
      "metadata": {
        "id": "6F7lidae5KbZ"
      }
    },
    {
      "cell_type": "code",
      "source": [
        "a = 1\n",
        "b = 2\n",
        "print(a)\n",
        "print(b)"
      ],
      "metadata": {
        "id": "TzUH2sOk5N7Z"
      },
      "execution_count": null,
      "outputs": []
    },
    {
      "cell_type": "code",
      "source": [
        "a,b = b, a\n",
        "print(a)\n",
        "print(b)"
      ],
      "metadata": {
        "id": "0bMs5eTg5S2X"
      },
      "execution_count": null,
      "outputs": []
    },
    {
      "cell_type": "markdown",
      "source": [
        "##Orden en la ejecucion "
      ],
      "metadata": {
        "id": "tfS_x3Zq59BX"
      }
    },
    {
      "cell_type": "code",
      "source": [
        "X = 0\n",
        "print(x+y)\n",
        "y = 1"
      ],
      "metadata": {
        "id": "RkAuF5T36EUu"
      },
      "execution_count": null,
      "outputs": []
    },
    {
      "cell_type": "markdown",
      "source": [
        "##Indentación "
      ],
      "metadata": {
        "id": "kdkcAUna8XIE"
      }
    },
    {
      "cell_type": "code",
      "source": [
        "def func1():\n",
        "      a = 1\n",
        "      b = 1\n",
        "def func2():\n",
        "    a = 2\n",
        "    b = 2 "
      ],
      "metadata": {
        "id": "102V9ae28ZdI"
      },
      "execution_count": null,
      "outputs": []
    },
    {
      "cell_type": "markdown",
      "source": [
        "##Variables Globales y varibles locales"
      ],
      "metadata": {
        "id": "n8Tuq-xP80pj"
      }
    },
    {
      "cell_type": "code",
      "source": [
        "a = 1 # Varible global\n",
        "def func(): # definicion de una funcion\n",
        "     f = 2 # Variable local\n",
        "     \n",
        "c = 3\n",
        "print(a+c)\n"
      ],
      "metadata": {
        "colab": {
          "base_uri": "https://localhost:8080/"
        },
        "id": "Yk6tMuZJ84iH",
        "outputId": "7c63a10f-8a31-4570-bd41-4fb1ad61b2e1"
      },
      "execution_count": null,
      "outputs": [
        {
          "output_type": "stream",
          "name": "stdout",
          "text": [
            "4\n"
          ]
        }
      ]
    },
    {
      "cell_type": "markdown",
      "source": [
        "##Standard I/O"
      ],
      "metadata": {
        "id": "ZqYdJQa0_IcX"
      }
    },
    {
      "cell_type": "code",
      "source": [
        "s = input(\"input: \")\n",
        "print(s)"
      ],
      "metadata": {
        "id": "kpASg2Ye_O0U"
      },
      "execution_count": null,
      "outputs": []
    },
    {
      "cell_type": "markdown",
      "source": [
        "##Funciones Basicas de Python"
      ],
      "metadata": {
        "id": "gnmJSGgM_h7Y"
      }
    },
    {
      "cell_type": "code",
      "source": [
        "#help() function\n",
        "help(print)"
      ],
      "metadata": {
        "id": "jSatSquh_mNg"
      },
      "execution_count": null,
      "outputs": []
    },
    {
      "cell_type": "code",
      "source": [
        "#id() function / unico \n",
        "a=1\n",
        "id(print)"
      ],
      "metadata": {
        "colab": {
          "base_uri": "https://localhost:8080/"
        },
        "id": "79_-AAQH_8i5",
        "outputId": "55aa81f4-5dc6-49cb-c837-162bbc540ff9"
      },
      "execution_count": null,
      "outputs": [
        {
          "output_type": "execute_result",
          "data": {
            "text/plain": [
              "140480508204288"
            ]
          },
          "metadata": {},
          "execution_count": 22
        }
      ]
    },
    {
      "cell_type": "code",
      "source": [
        "#type() function\n",
        "a = 1\n",
        "type(a)"
      ],
      "metadata": {
        "colab": {
          "base_uri": "https://localhost:8080/"
        },
        "id": "_ZdV_6YdAaY7",
        "outputId": "e7f722d2-7332-4eda-a78b-fef998070e4d"
      },
      "execution_count": null,
      "outputs": [
        {
          "output_type": "execute_result",
          "data": {
            "text/plain": [
              "int"
            ]
          },
          "metadata": {},
          "execution_count": 23
        }
      ]
    },
    {
      "cell_type": "code",
      "source": [
        "#del() function\n",
        "a=1\n",
        "del(a)\n",
        "print(a)"
      ],
      "metadata": {
        "id": "lbKpe_iRAg7r"
      },
      "execution_count": null,
      "outputs": []
    },
    {
      "cell_type": "code",
      "source": [
        "#len() function\n",
        "len(\"hola \")"
      ],
      "metadata": {
        "colab": {
          "base_uri": "https://localhost:8080/"
        },
        "id": "M0DYziN7Ari-",
        "outputId": "f525c4f4-5c35-41ba-9365-d62e56d0d10d"
      },
      "execution_count": null,
      "outputs": [
        {
          "output_type": "execute_result",
          "data": {
            "text/plain": [
              "5"
            ]
          },
          "metadata": {},
          "execution_count": 25
        }
      ]
    },
    {
      "cell_type": "markdown",
      "source": [
        "Ejercicios de Python\n",
        "\n",
        "\n",
        "1.   Escribe un mensaje en una variable que puedes llamar como quieras.\n",
        "2.   Crea dos variables y almacena en ellas un número.\n",
        "3.Intenta (todavía no te he mostrado como) sumar las dos variables del ejercicio anterior y guarda el resultado de esta suma en una tercera variable.\n",
        "\n",
        "\n",
        "\n",
        "\n"
      ],
      "metadata": {
        "id": "J8gwuKfEby18"
      }
    },
    {
      "cell_type": "code",
      "source": [
        "#1\n",
        "mensaje = \"Este es un mensaje cualquiera.\"\n",
        "print (mensaje)"
      ],
      "metadata": {
        "id": "GsDpGhPmb1ck"
      },
      "execution_count": null,
      "outputs": []
    },
    {
      "cell_type": "code",
      "source": [
        "#2\n",
        "numero1 = 10\n",
        "numero2 = 15"
      ],
      "metadata": {
        "id": "PRfffCb5c-FO"
      },
      "execution_count": null,
      "outputs": []
    },
    {
      "cell_type": "code",
      "source": [
        "#3\n",
        "numero1 = 10\n",
        "numero2 = 15\n",
        "\n",
        "resultado = numero1 + numero2\n",
        "print(resultado)"
      ],
      "metadata": {
        "id": "ATks5mrcdn9P"
      },
      "execution_count": null,
      "outputs": []
    }
  ]
}