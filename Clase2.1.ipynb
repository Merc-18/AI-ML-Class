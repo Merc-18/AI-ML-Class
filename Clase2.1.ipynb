{
  "nbformat": 4,
  "nbformat_minor": 0,
  "metadata": {
    "colab": {
      "name": "Cap3 Listas Python Course.ipynb",
      "provenance": [],
      "authorship_tag": "ABX9TyMWC72rE7zgb6HknIgjd1ZK"
    },
    "kernelspec": {
      "name": "python3",
      "display_name": "Python 3"
    },
    "language_info": {
      "name": "python"
    }
  },
  "cells": [
    {
      "cell_type": "markdown",
      "source": [
        "#Curso de AI&ML\n",
        "##Dirigido por: Director del Area de Investigacion de la IEEE-RAS\n",
        "###Milton Eduardo Rios Castillo\n"
      ],
      "metadata": {
        "id": "nzevZxkT5Ie4"
      }
    },
    {
      "cell_type": "markdown",
      "source": [
        "##Listas"
      ],
      "metadata": {
        "id": "CZw8TehHbgf3"
      }
    },
    {
      "cell_type": "code",
      "source": [
        "l = [1,2,3]\n",
        "print(l)"
      ],
      "metadata": {
        "colab": {
          "base_uri": "https://localhost:8080/"
        },
        "id": "MPiWzxI7bizh",
        "outputId": "72344b3c-f5be-4ef5-bd9f-222dffc7d4d1"
      },
      "execution_count": null,
      "outputs": [
        {
          "output_type": "stream",
          "name": "stdout",
          "text": [
            "[1, 2, 3]\n"
          ]
        }
      ]
    },
    {
      "cell_type": "code",
      "source": [
        "print(l[1])\n",
        "print (l[0:2])\n",
        "print (l[0:3:2])"
      ],
      "metadata": {
        "colab": {
          "base_uri": "https://localhost:8080/"
        },
        "id": "mwzBtS0gb5Kx",
        "outputId": "16d865a3-1664-4cf6-ad1a-b4dd54c78456"
      },
      "execution_count": null,
      "outputs": [
        {
          "output_type": "stream",
          "name": "stdout",
          "text": [
            "2\n",
            "[1, 2]\n",
            "[1, 3]\n"
          ]
        }
      ]
    },
    {
      "cell_type": "code",
      "source": [
        "l[1] = 0\n",
        "print(l)"
      ],
      "metadata": {
        "colab": {
          "base_uri": "https://localhost:8080/"
        },
        "id": "91YPxPMBdp13",
        "outputId": "a73b432a-fca0-4fca-9c26-2234a5ad38b3"
      },
      "execution_count": null,
      "outputs": [
        {
          "output_type": "stream",
          "name": "stdout",
          "text": [
            "[1, 0, 3]\n"
          ]
        }
      ]
    },
    {
      "cell_type": "markdown",
      "source": [
        "##Operaciones con Listas"
      ],
      "metadata": {
        "id": "v_hjRgeHd2dF"
      }
    },
    {
      "cell_type": "code",
      "source": [
        "a = [1,2,3]\n",
        "b = [4,5]"
      ],
      "metadata": {
        "id": "QFYiOcZ1d1hW"
      },
      "execution_count": null,
      "outputs": []
    },
    {
      "cell_type": "code",
      "source": [
        "print(a*2)\n",
        "print(a+b)"
      ],
      "metadata": {
        "colab": {
          "base_uri": "https://localhost:8080/"
        },
        "id": "HEdgs0wWeFXu",
        "outputId": "cba7bcc6-dc6b-4187-eb41-5bf1c638fa58"
      },
      "execution_count": null,
      "outputs": [
        {
          "output_type": "stream",
          "name": "stdout",
          "text": [
            "[1, 2, 3, 1, 2, 3]\n",
            "[1, 2, 3, 4, 5]\n"
          ]
        }
      ]
    },
    {
      "cell_type": "markdown",
      "source": [
        "##Metodos de una Lista"
      ],
      "metadata": {
        "id": "WGBp7flceir4"
      }
    },
    {
      "cell_type": "code",
      "source": [
        "animales = [\"cat\",\"dog\",\"bird\"]\n",
        "#list.append(obj):agregar un item al final de la lista\n",
        "animales.append(\"fish\")\n",
        "print(animales)"
      ],
      "metadata": {
        "id": "8c_wf4Sdelma"
      },
      "execution_count": null,
      "outputs": []
    },
    {
      "cell_type": "code",
      "source": [
        "#list.remove(obj):eliminar uno o mas items de la lista\n",
        "animales.remove(\"fish\")\n",
        "print(animales)"
      ],
      "metadata": {
        "colab": {
          "base_uri": "https://localhost:8080/"
        },
        "id": "xJSmmBSWfH9N",
        "outputId": "88caa3e3-9997-4ded-8592-c9946e46f55e"
      },
      "execution_count": null,
      "outputs": [
        {
          "output_type": "stream",
          "name": "stdout",
          "text": [
            "['cat', 'dog', 'bird']\n"
          ]
        }
      ]
    },
    {
      "cell_type": "code",
      "source": [
        "#list.insert(index,ojb):agregar un objeto en un index determinado\n",
        "animales.insert(1,\"fish\")\n",
        "print(animales)"
      ],
      "metadata": {
        "colab": {
          "base_uri": "https://localhost:8080/"
        },
        "id": "WM-RabjIgIds",
        "outputId": "683df08e-a63b-43e4-8a10-2f749e36511a"
      },
      "execution_count": null,
      "outputs": [
        {
          "output_type": "stream",
          "name": "stdout",
          "text": [
            "['cat', 'fish', 'dog', 'bird']\n"
          ]
        }
      ]
    },
    {
      "cell_type": "code",
      "source": [
        "#list.pop([index=-1]): elimina y regresa el ultimo index\n",
        "print(animales.pop())\n",
        "print(animales)"
      ],
      "metadata": {
        "colab": {
          "base_uri": "https://localhost:8080/"
        },
        "id": "mqaxOE9UzE0f",
        "outputId": "187ee29d-3de1-48c0-d7a5-2a839b18f9dc"
      },
      "execution_count": null,
      "outputs": [
        {
          "output_type": "stream",
          "name": "stdout",
          "text": [
            "bird\n",
            "['cat', 'fish', 'dog']\n"
          ]
        }
      ]
    },
    {
      "cell_type": "code",
      "source": [
        "#enumera en secuencia y agrega un contador iterable\n",
        "for i , x in enumerate(animales):\n",
        "  print(i,x)"
      ],
      "metadata": {
        "colab": {
          "base_uri": "https://localhost:8080/"
        },
        "id": "ryMAzixjz272",
        "outputId": "9d31a117-c036-4e72-e5c7-43f0a7add43e"
      },
      "execution_count": null,
      "outputs": [
        {
          "output_type": "stream",
          "name": "stdout",
          "text": [
            "0 cat\n",
            "1 fish\n",
            "2 dog\n"
          ]
        }
      ]
    },
    {
      "cell_type": "code",
      "source": [
        "#clasificada del menor al mayor la lista\n",
        "lista1 = [12,34,54,31,2,4,51,5,1]\n",
        "lista1.sort()\n",
        "print(lista1)"
      ],
      "metadata": {
        "colab": {
          "base_uri": "https://localhost:8080/"
        },
        "id": "c3BR74jv2Ouo",
        "outputId": "842dbfa1-4c04-4854-97f0-f90deea70571"
      },
      "execution_count": null,
      "outputs": [
        {
          "output_type": "stream",
          "name": "stdout",
          "text": [
            "[1, 2, 4, 5, 12, 31, 34, 51, 54]\n"
          ]
        }
      ]
    },
    {
      "cell_type": "code",
      "source": [
        "#clasificada reversa la lista\n",
        "lista1 = [12,34,54,31,2,4,51,5,1]\n",
        "lista1.reverse()\n",
        "print(lista1)"
      ],
      "metadata": {
        "colab": {
          "base_uri": "https://localhost:8080/"
        },
        "id": "3-5Gk6dW27ow",
        "outputId": "2292f616-0d43-4496-fe4d-b2e8262e393f"
      },
      "execution_count": null,
      "outputs": [
        {
          "output_type": "stream",
          "name": "stdout",
          "text": [
            "[1, 5, 51, 4, 2, 31, 54, 34, 12]\n"
          ]
        }
      ]
    },
    {
      "cell_type": "code",
      "source": [
        "doblete = [x*2 for x in animales]\n",
        "print(doblete)"
      ],
      "metadata": {
        "colab": {
          "base_uri": "https://localhost:8080/"
        },
        "id": "zw8pO54u3Voi",
        "outputId": "fad09c39-09e4-4f85-fa68-41ba974a5259"
      },
      "execution_count": null,
      "outputs": [
        {
          "output_type": "stream",
          "name": "stdout",
          "text": [
            "['catcat', 'fishfish', 'dogdog']\n"
          ]
        }
      ]
    },
    {
      "cell_type": "markdown",
      "source": [
        "#Indexacion de Listas"
      ],
      "metadata": {
        "id": "XtSPnTZ74alL"
      }
    },
    {
      "cell_type": "code",
      "source": [
        "l = [[1,3],[4,5]]\n",
        "l[1][0]"
      ],
      "metadata": {
        "colab": {
          "base_uri": "https://localhost:8080/"
        },
        "id": "VToLTk4bApjT",
        "outputId": "0da11746-0c09-4fd5-902b-2306b9b46bce"
      },
      "execution_count": null,
      "outputs": [
        {
          "output_type": "execute_result",
          "data": {
            "text/plain": [
              "4"
            ]
          },
          "metadata": {},
          "execution_count": 30
        }
      ]
    },
    {
      "cell_type": "code",
      "source": [
        "l = [0,1,2,3,4,5]\n",
        "l[::2]"
      ],
      "metadata": {
        "colab": {
          "base_uri": "https://localhost:8080/"
        },
        "id": "FyjmmSHXA4Ec",
        "outputId": "3349c817-f6ea-4d07-b74a-af1bf29ec9d7"
      },
      "execution_count": null,
      "outputs": [
        {
          "output_type": "execute_result",
          "data": {
            "text/plain": [
              "[0, 2, 4]"
            ]
          },
          "metadata": {},
          "execution_count": 31
        }
      ]
    },
    {
      "cell_type": "code",
      "source": [
        "l[1:4:2]"
      ],
      "metadata": {
        "colab": {
          "base_uri": "https://localhost:8080/"
        },
        "id": "wJKbhTPQ4Z2_",
        "outputId": "514a130c-bf67-4810-895e-74716baecb1f"
      },
      "execution_count": null,
      "outputs": [
        {
          "output_type": "execute_result",
          "data": {
            "text/plain": [
              "[1, 3]"
            ]
          },
          "metadata": {},
          "execution_count": 32
        }
      ]
    },
    {
      "cell_type": "markdown",
      "source": [
        ""
      ],
      "metadata": {
        "id": "rfah8hsGFCDG"
      }
    },
    {
      "cell_type": "markdown",
      "source": [
        "title()"
      ],
      "metadata": {
        "id": "Vp-Oj742qdyy"
      }
    },
    {
      "cell_type": "code",
      "execution_count": null,
      "metadata": {
        "id": "9_0XZ6-sp8KL"
      },
      "outputs": [],
      "source": [
        "nombre = \"programación fácil\"\n",
        "nombre = nombre.title()\n",
        "print(nombre)"
      ]
    },
    {
      "cell_type": "code",
      "source": [
        "nombre = \"programación fácil\".title()\n",
        "print(nombre)"
      ],
      "metadata": {
        "id": "qW5rDu-Uqb0c"
      },
      "execution_count": null,
      "outputs": []
    },
    {
      "cell_type": "markdown",
      "source": [
        "upper()"
      ],
      "metadata": {
        "id": "2OpTM0R-qkVY"
      }
    },
    {
      "cell_type": "code",
      "source": [
        "nombre = \"programación fácil\".upper()\n",
        "print(nombre)"
      ],
      "metadata": {
        "id": "7lYQEYSXtCF5"
      },
      "execution_count": null,
      "outputs": []
    },
    {
      "cell_type": "markdown",
      "source": [
        "lower()"
      ],
      "metadata": {
        "id": "AXSe2VbPtG5p"
      }
    },
    {
      "cell_type": "code",
      "source": [
        "nombre = \"PrOGRaMAcIÓn FÁCiL\".lower()\n",
        "print(nombre)"
      ],
      "metadata": {
        "id": "O1pJ22yjtIFi"
      },
      "execution_count": null,
      "outputs": []
    },
    {
      "cell_type": "markdown",
      "source": [
        "\n",
        "\n",
        "1.   Pon en mayúsculas la primera letra de cada palabra de este nombre utilizando uno de los métodos del capítulo:\n",
        "enrique barros fernández\n",
        "2.   Deja esta frase totalmente en letras minúsculas utilizando uno de los métodos del capítulo:\n",
        "Esta Es Una Frase Para Ser Formateada.\n",
        "3.Deja esta frase totalmente en letras mayúsculas:\n",
        "Esta Es Una Frase Para Ser Formateada.\n",
        "\n"
      ],
      "metadata": {
        "id": "St83bmAdtT9y"
      }
    },
    {
      "cell_type": "code",
      "source": [
        "nombre = \"enrique barros fernández\".title()"
      ],
      "metadata": {
        "id": "JK66Th5-tk4n"
      },
      "execution_count": null,
      "outputs": []
    },
    {
      "cell_type": "code",
      "source": [
        "nombre = \"Esta Es Una Frase Para Ser Formateada.\".lower()"
      ],
      "metadata": {
        "id": "JPI-rcnttn97"
      },
      "execution_count": null,
      "outputs": []
    },
    {
      "cell_type": "code",
      "source": [
        "nombre = \"Esta Es Una Frase Para Ser Formateada.\".upper()"
      ],
      "metadata": {
        "id": "tz2AYvFDtpGf"
      },
      "execution_count": null,
      "outputs": []
    }
  ]
}